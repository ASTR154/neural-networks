{
 "cells": [
  {
   "cell_type": "markdown",
   "metadata": {
    "id": "_Dyw4pbps6_9"
   },
   "source": [
    "# Classify Handwritten Digits with Convolutional Neural Networks (CNNs)\n",
    "By B Nord (2018 Nov 09)  \n",
    "Minor updates by G Hosseinzadeh (2025 May 19)"
   ]
  },
  {
   "cell_type": "code",
   "execution_count": 1,
   "metadata": {
    "id": "JYuP1qqMpyHZ"
   },
   "outputs": [],
   "source": [
    "import numpy as np\n",
    "import matplotlib.pyplot as plt\n",
    "from sklearn.metrics import ConfusionMatrixDisplay\n",
    "import keras"
   ]
  },
  {
   "cell_type": "markdown",
   "metadata": {
    "id": "bzY9nK-_LLC6"
   },
   "source": [
    "## Prepare the Data"
   ]
  },
  {
   "cell_type": "markdown",
   "metadata": {
    "id": "Ppacy9UTzAJT"
   },
   "source": [
    "### Download the data\n",
    "Load the [MNIST](https://en.wikipedia.org/wiki/MNIST_database) data set included in Keras. This consists of handwritten digits from 0-9 that we will try to identify with a CNN."
   ]
  },
  {
   "cell_type": "code",
   "execution_count": 2,
   "metadata": {
    "id": "qwXuui6_yYBv"
   },
   "outputs": [],
   "source": [
    "# uncomment the following line if the load_data function crashes with SSL: CERTIFICATE_VERIFY_FAILED\n",
    "# !curl https://storage.googleapis.com/tensorflow/tf-keras-datasets/mnist.npz -o ~/.keras/datasets/mnist.npz\n",
    "\n",
    "(x_train_temp, y_train_temp), (x_test_temp, y_test_temp) = keras.datasets.mnist.load_data()"
   ]
  },
  {
   "cell_type": "markdown",
   "metadata": {
    "id": "asIjm01UzUiK"
   },
   "source": [
    "### **Look** at the data\n",
    "Check whether the shapes of 'data' and 'label' (for train and test, respectively) match. If they don't now, Keras/TF will kindly yell at you later. (You always do this so that you **know** what the structure is!)"
   ]
  },
  {
   "cell_type": "code",
   "execution_count": 3,
   "metadata": {
    "id": "5L507V2Ayk3y"
   },
   "outputs": [
    {
     "name": "stdout",
     "output_type": "stream",
     "text": [
      "Train Data Shape: (60000, 28, 28)\n",
      "Test Data Shape: (10000, 28, 28)\n",
      "Train Label Shape: (60000,)\n",
      "Test Label Shape: (10000,)\n"
     ]
    }
   ],
   "source": [
    "print(\"Train Data Shape:\", np.shape(x_train_temp))  # complete\n",
    "print(\"Test Data Shape:\", np.shape(x_test_temp))  # complete\n",
    "print(\"Train Label Shape:\", np.shape(y_train_temp)) # complete\n",
    "print(\"Test Label Shape:\",np.shape(y_test_temp))  # complete"
   ]
  },
  {
   "cell_type": "markdown",
   "metadata": {
    "id": "SquIrP2E0Pnz"
   },
   "source": [
    "Print out an example image and label from in the training set. Can you see the pattern of the number? Plot the first two images in the set.\n",
    "\n",
    "\n",
    "Yes i see the pattern, the image looks like handdrawn version of the number"
   ]
  },
  {
   "cell_type": "code",
   "execution_count": 4,
   "metadata": {
    "id": "p9sOE3TI4nHR"
   },
   "outputs": [
    {
     "name": "stdout",
     "output_type": "stream",
     "text": [
      "1\n"
     ]
    },
    {
     "data": {
      "image/png": "[encoded data removed]",
      "text/plain": [
       "<Figure size 640x480 with 1 Axes>"
      ]
     },
     "metadata": {},
     "output_type": "display_data"
    }
   ],
   "source": [
    "plt.imshow(x_train_temp[99])\n",
    "\n",
    "print(y_train_temp[99])"
   ]
  },
  {
   "cell_type": "code",
   "execution_count": 5,
   "metadata": {},
   "outputs": [
    {
     "data": {
      "text/plain": [
       "<matplotlib.image.AxesImage at 0x203fa016e40>"
      ]
     },
     "execution_count": 5,
     "metadata": {},
     "output_type": "execute_result"
    },
    {
     "data": {
      "image/png": "[encoded data removed]",
      "text/plain": [
       "<Figure size 640x480 with 1 Axes>"
      ]
     },
     "metadata": {},
     "output_type": "display_data"
    }
   ],
   "source": [
    "plt.imshow(x_train_temp[0])\n"
   ]
  },
  {
   "cell_type": "code",
   "execution_count": 6,
   "metadata": {},
   "outputs": [
    {
     "data": {
      "text/plain": [
       "<matplotlib.image.AxesImage at 0x203ff69f200>"
      ]
     },
     "execution_count": 6,
     "metadata": {},
     "output_type": "execute_result"
    },
    {
     "data": {
      "image/png": "[encoded data removed]",
      "text/plain": [
       "<Figure size 640x480 with 1 Axes>"
      ]
     },
     "metadata": {},
     "output_type": "display_data"
    }
   ],
   "source": [
    "plt.imshow(x_train_temp[1])"
   ]
  },
  {
   "cell_type": "markdown",
   "metadata": {
    "id": "tnva-KuHjLw0"
   },
   "source": [
    "### Prepare the data"
   ]
  },
  {
   "cell_type": "markdown",
   "metadata": {
    "id": "xPVp8HLR4LzC"
   },
   "source": [
    "Data often need to be reshaped and normalized for ingestion into the neural network.\n",
    "Add an extra (empty) dimension to the end of the images (see `np.expand_dims`).\n",
    "Normalize the pixel values to be between 0 and 1 for the network.\n",
    "\n"
   ]
  },
  {
   "cell_type": "code",
   "execution_count": 7,
   "metadata": {},
   "outputs": [],
   "source": [
    "max_int=255"
   ]
  },
  {
   "cell_type": "code",
   "execution_count": 8,
   "metadata": {},
   "outputs": [],
   "source": [
    "x_train_temp_n = x_train_temp.copy()\n",
    "\n",
    "x_train_temp_n=x_train_temp_n/max_int\n"
   ]
  },
  {
   "cell_type": "code",
   "execution_count": 9,
   "metadata": {},
   "outputs": [],
   "source": [
    "x_test_temp_n = x_test_temp.copy()\n",
    "\n",
    "x_test_temp_n=x_test_temp_n/max_int\n"
   ]
  },
  {
   "cell_type": "code",
   "execution_count": 10,
   "metadata": {
    "id": "vTCyohBf4Nhp"
   },
   "outputs": [],
   "source": [
    "x_train =  x_train_temp_n\n",
    "x_test =  x_train_temp_n"
   ]
  },
  {
   "cell_type": "markdown",
   "metadata": {
    "id": "3aTWoi_E6Ueh"
   },
   "source": [
    "Apply *one-hot encoding* to the labels.\n",
    "\n",
    "\n",
    "1.   The current encoding provides a literal label. For example, the label for \"3\"  is `3`.\n",
    "2.   One-hot encoding places a \"1\" in an array at the appropriate location for that datum. For example, the label \"3\" becomes `[0, 0, 0, 1, 0, 0, 0, 0, 0, 0]`.\n",
    "\n",
    "This increases the efficiency of the matrix algebra during network training and evaluation.\n",
    "\n",
    "\n"
   ]
  },
  {
   "cell_type": "code",
   "execution_count": 11,
   "metadata": {
    "id": "GIWLxZN099Bl"
   },
   "outputs": [],
   "source": [
    "y_train = keras.utils.to_categorical(y_train_temp,num_classes = 10)\n",
    "y_test = keras.utils.to_categorical(y_test_temp,num_classes = 10)"
   ]
  },
  {
   "cell_type": "markdown",
   "metadata": {
    "id": "4PO2kozw-czq"
   },
   "source": [
    "## Design Neural Network Architecture!"
   ]
  },
  {
   "cell_type": "markdown",
   "metadata": {
    "id": "Po6px0oM-vdg"
   },
   "source": [
    "### Select model format and add layers to the model sequentially\n",
    "Create a sequential model with the following layers:\n",
    "1. input layer with the shape of one of the input images\n",
    "2. 2D convolution layer with 32 filters, a kernel size of (3, 3), and a ReLU activation function\n",
    "3. dropout layer with a rate of 0.25 and a ReLU activation function\n",
    "4. flattening layer\n",
    "5. fully connected (dense) layer with a neuron for each convolution filter\n",
    "6. dropout layer with a rate of 0.5\n",
    "7. output fully connected (dense) layer with a neuron for each classification and a softmax activation function\n",
    "\n",
    "Print out the model summary table."
   ]
  },
  {
   "cell_type": "code",
   "execution_count": 23,
   "metadata": {},
   "outputs": [],
   "source": [
    "#import torch\n",
    "import tensorflow as tf\n",
    "\n",
    "import os\n",
    "import numpy as np\n",
    "import keras\n",
    "from keras import layers\n",
    "from keras import ops"
   ]
  },
  {
   "cell_type": "code",
   "execution_count": 24,
   "metadata": {},
   "outputs": [],
   "source": [
    "inputs = keras.Input(shape=(28,28,1), name = \"colours\")\n",
    "x = layers.Dense(64, activation=\"relu\", name=\"dense_1\")(inputs)\n",
    "x = layers.Dense(64, activation=\"relu\", name=\"dense_2\")(x)\n",
    "outputs = layers.Dense(10, activation=\"softmax\", name=\"predictions\")(x)"
   ]
  },
  {
   "cell_type": "code",
   "execution_count": 25,
   "metadata": {},
   "outputs": [],
   "source": [
    "model = keras.Model(inputs=inputs, outputs=outputs)"
   ]
  },
  {
   "cell_type": "code",
   "execution_count": 26,
   "metadata": {},
   "outputs": [],
   "source": [
    "model.compile(\n",
    "    optimizer=keras.optimizers.RMSprop(),  # Optimizer\n",
    "    # Loss function to minimize\n",
    "    loss=keras.losses.SparseCategoricalCrossentropy(),\n",
    "    # List of metrics to monitor\n",
    "    metrics=[keras.metrics.SparseCategoricalAccuracy()],\n",
    ")"
   ]
  },
  {
   "cell_type": "code",
   "execution_count": null,
   "metadata": {
    "id": "-apTS3Fyrc2B"
   },
   "outputs": [],
   "source": [
    "# complete\n",
    "# complete\n",
    "# complete\n",
    "# complete\n",
    "# complete\n",
    "# complete\n",
    "# complete\n",
    "# complete\n",
    "# complete\n",
    "model.summary()"
   ]
  },
  {
   "cell_type": "markdown",
   "metadata": {
    "id": "huruvZgbDXb_"
   },
   "source": [
    "### Compile the model\n",
    "\n",
    "Select three key options\n",
    "1.   **optimizer**: the method for optimizing the weights. \"Stochastic Gradient Descent (SGD)\" is the canonical method.\n",
    "2.   **loss** function: the form of the function to encode the difference between the data's true label and the predict label.\n",
    "3.   **metric**: the function by which the model is evaluated."
   ]
  },
  {
   "cell_type": "code",
   "execution_count": null,
   "metadata": {
    "id": "HLaQvODcBzi2"
   },
   "outputs": [],
   "source": [
    "model.compile(  # complete"
   ]
  },
  {
   "cell_type": "markdown",
   "metadata": {
    "id": "mLDD3Iy5D-UB"
   },
   "source": [
    "### Fit (read: Train) the model\n",
    "Use 5 epochs (batches) of 32 images and a validation split of 80%."
   ]
  },
  {
   "cell_type": "code",
   "execution_count": null,
   "metadata": {
    "id": "SYAh_2hODQTd"
   },
   "outputs": [],
   "source": [
    "history = model.fit(\n",
    "# complete\n",
    "# complete\n",
    "# complete\n",
    "# complete"
   ]
  },
  {
   "cell_type": "markdown",
   "metadata": {
    "id": "phnTXhesOdtT"
   },
   "source": [
    "## Diagnostics!\n"
   ]
  },
  {
   "cell_type": "markdown",
   "metadata": {
    "id": "NLR2O6j3F6k-"
   },
   "source": [
    "#### Evaluate overall model efficacy\n",
    "\n",
    "Evaluate model on training and test data and compare. This provides summary values that are equivalent to the final value in the accuracy plot below.  Don't forget to undo the one-hot encoding for the predicted labels *(hint: `np.argmax`)*."
   ]
  },
  {
   "cell_type": "code",
   "execution_count": null,
   "metadata": {
    "id": "ZdukNK27_jnm"
   },
   "outputs": [],
   "source": [
    "# complete\n",
    "# complete\n",
    "\n",
    "# complete\n",
    "# complete\n",
    "\n",
    "# complete\n",
    "# complete\n",
    "\n",
    "print(f'Train accuracy = {acc_train:.1%}')\n",
    "print(f'Test accuracy = {acc_test:.1%}')"
   ]
  },
  {
   "cell_type": "markdown",
   "metadata": {
    "id": "kqD61qqNOqWa"
   },
   "source": [
    "#### Plot accuracy and loss as a function of epochs (equivalently training time)\n",
    "This information is stored in the `history` object you defined earlier."
   ]
  },
  {
   "cell_type": "code",
   "execution_count": null,
   "metadata": {
    "id": "hH7SJntRDTtB"
   },
   "outputs": [],
   "source": [
    "# complete\n",
    "# complete\n",
    "# complete\n",
    "# complete\n",
    "# complete\n",
    "# complete"
   ]
  },
  {
   "cell_type": "markdown",
   "metadata": {
    "id": "vEn4dyybOzy4"
   },
   "source": [
    "#### Confusion Matrix\n",
    "Plot a confusion matrix for the test data."
   ]
  },
  {
   "cell_type": "code",
   "execution_count": null,
   "metadata": {
    "id": "PuMtsloj227g"
   },
   "outputs": [],
   "source": [
    "# complete"
   ]
  }
 ],
 "metadata": {
  "colab": {
   "collapsed_sections": [
    "bzY9nK-_LLC6",
    "Ppacy9UTzAJT",
    "asIjm01UzUiK",
    "tnva-KuHjLw0",
    "TbZq-vUT-hgd",
    "Po6px0oM-vdg",
    "huruvZgbDXb_",
    "mLDD3Iy5D-UB",
    "phnTXhesOdtT",
    "NLR2O6j3F6k-",
    "SPtsnJscR-oA",
    "kqD61qqNOqWa",
    "vEn4dyybOzy4",
    "Zu8T1uCEakHJ",
    "OTd7QtwwEEvt",
    "-IidJOUgbNGF",
    "SrVGalGatWaK",
    "qwubzWGWWD6E"
   ],
   "provenance": [],
   "toc_visible": true
  },
  "kernelspec": {
   "display_name": "Python 3 (ipykernel)",
   "language": "python",
   "name": "python3"
  },
  "language_info": {
   "codemirror_mode": {
    "name": "ipython",
    "version": 3
   },
   "file_extension": ".py",
   "mimetype": "text/x-python",
   "name": "python",
   "nbconvert_exporter": "python",
   "pygments_lexer": "ipython3",
   "version": "3.12.9"
  }
 },
 "nbformat": 4,
 "nbformat_minor": 4
}
